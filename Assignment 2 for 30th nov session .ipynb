{
 "cells": [
  {
   "cell_type": "code",
   "execution_count": 1,
   "id": "8150b828",
   "metadata": {},
   "outputs": [
    {
     "name": "stdout",
     "output_type": "stream",
     "text": [
      "s code :  115\n",
      "h code :  104\n",
      "a code :  97\n",
      "i code :  105\n",
      "l code :  108\n",
      "e code :  101\n",
      "n code :  110\n",
      "d code :  100\n",
      "r code :  114\n",
      "a code :  97\n"
     ]
    }
   ],
   "source": [
    "# Assignment 2 \n",
    "# ASCII value name shailendra for each letter \n",
    "var1 = ord(\"s\")\n",
    "var2 = ord(\"h\")\n",
    "var3 = ord(\"a\")\n",
    "var4 = ord(\"i\")\n",
    "var5 = ord(\"l\")\n",
    "var6 = ord(\"e\")\n",
    "var7 = ord(\"n\")\n",
    "var8 = ord(\"d\")\n",
    "var9 = ord(\"r\")\n",
    "var10 = ord(\"a\")\n",
    "\n",
    "print(\"s code : \", var1)\n",
    "print(\"h code : \", var2)\n",
    "print(\"a code : \", var3)\n",
    "print(\"i code : \", var4)\n",
    "print(\"l code : \", var5)\n",
    "print(\"e code : \", var6)\n",
    "print(\"n code : \", var7)\n",
    "print(\"d code : \", var8)\n",
    "print(\"r code : \", var9)\n",
    "print(\"a code : \", var10)"
   ]
  },
  {
   "cell_type": "code",
   "execution_count": 2,
   "id": "141eb0af",
   "metadata": {},
   "outputs": [
    {
     "name": "stdout",
     "output_type": "stream",
     "text": [
      "i code :  105\n",
      "N code :  78\n",
      "D code :  68\n",
      "@ code :  64\n",
      "I code :  73\n",
      "A code :  65\n"
     ]
    }
   ],
   "source": [
    "var1 = ord(\"i\")\n",
    "var2 = ord(\"N\")\n",
    "var3 = ord(\"D\")\n",
    "var4 = ord(\"@\")\n",
    "var5 = ord(\"I\")\n",
    "var6 = ord(\"A\")\n",
    "print(\"i code : \", var1)\n",
    "print(\"N code : \", var2)\n",
    "print(\"D code : \", var3)\n",
    "print(\"@ code : \", var4)\n",
    "print(\"I code : \", var5)\n",
    "print(\"A code : \", var6)"
   ]
  },
  {
   "cell_type": "code",
   "execution_count": 3,
   "id": "4f4b058f",
   "metadata": {},
   "outputs": [
    {
     "name": "stdout",
     "output_type": "stream",
     "text": [
      "80 code :  P\n",
      "92 code :  \\\n",
      "99 code :  c\n",
      "106 code :  j\n",
      "116 code :  t\n"
     ]
    }
   ],
   "source": [
    "var1 = chr(80)\n",
    "var2 = chr(92)\n",
    "var3 = chr(99)\n",
    "var4 = chr(106)\n",
    "var5 = chr(116)\n",
    "\n",
    "print(\"80 code : \", var1)\n",
    "print(\"92 code : \", var2)\n",
    "print(\"99 code : \", var3)\n",
    "print(\"106 code : \", var4)\n",
    "print(\"116 code : \", var5)\n"
   ]
  },
  {
   "cell_type": "code",
   "execution_count": null,
   "id": "0248ea84",
   "metadata": {},
   "outputs": [],
   "source": []
  }
 ],
 "metadata": {
  "kernelspec": {
   "display_name": "Python 3",
   "language": "python",
   "name": "python3"
  },
  "language_info": {
   "codemirror_mode": {
    "name": "ipython",
    "version": 3
   },
   "file_extension": ".py",
   "mimetype": "text/x-python",
   "name": "python",
   "nbconvert_exporter": "python",
   "pygments_lexer": "ipython3",
   "version": "3.8.8"
  }
 },
 "nbformat": 4,
 "nbformat_minor": 5
}
